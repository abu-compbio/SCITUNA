{
 "cells": [
  {
   "cell_type": "code",
   "execution_count": null,
   "metadata": {
    "scrolled": true
   },
   "outputs": [],
   "source": [
    "import os\n",
    "import umap\n",
    "import scanpy\n",
    "import warnings\n",
    "import umap.plot\n",
    "import numpy as np\n",
    "import pandas as pd\n",
    "from utils import *\n",
    "import seaborn as sns\n",
    "from tqdm import tqdm as tqdm\n",
    "import matplotlib.pyplot as plt"
   ]
  },
  {
   "cell_type": "markdown",
   "metadata": {},
   "source": [
    "# 1. Load data"
   ]
  },
  {
   "cell_type": "code",
   "execution_count": null,
   "metadata": {},
   "outputs": [],
   "source": [
    "dataset=\"small_atac_peaks\" \n",
    "data_keys={\"human_lung_atlas\":{\"batch_key\":\"batch\",\"label_key\":\"cell_type\"},\n",
    "           \"human_pancreas\":{\"batch_key\":\"tech\",\"label_key\":\"celltype\"},\n",
    "           \"small_atac_peaks\":{\"batch_key\":\"batchname\",\"label_key\":\"final_cell_label\"},\n",
    "           \"small_atac_windows\":{\"batch_key\":\"batchname\",\"label_key\":\"final_cell_label\"}}\n",
    "methods = ['SCITUNA']#, 'Scanorama', 'fastMNN', 'Seurat', 'SAUCIE']"
   ]
  },
  {
   "cell_type": "markdown",
   "metadata": {},
   "source": [
    "### 1.2  Original Datasets (unintegrated)"
   ]
  },
  {
   "cell_type": "code",
   "execution_count": null,
   "metadata": {
    "scrolled": true
   },
   "outputs": [],
   "source": [
    "print(\"Loading dataset\")\n",
    "unintegrated_data=scanpy.read_h5ad(\"../data/{}.h5ad\".format(dataset))"
   ]
  },
  {
   "cell_type": "markdown",
   "metadata": {},
   "source": [
    "### 1.1 Batch Pairs "
   ]
  },
  {
   "cell_type": "code",
   "execution_count": null,
   "metadata": {},
   "outputs": [],
   "source": [
    "# retreive batch pairs as tuples\n",
    "datasets = [(a,b) for idx, a in enumerate(np.unique(unintegrated_data.obs[data_keys[dataset][\"batch_key\"]])) for b in np.unique(unintegrated_data.obs[data_keys[dataset][\"batch_key\"]])[idx + 1:]]\n",
    "print(\"There are :\",len(datasets),\" batch pairs.\")\n",
    "datasets[:4]"
   ]
  },
  {
   "cell_type": "markdown",
   "metadata": {},
   "source": [
    "# 2. Methods vs. Metrics"
   ]
  },
  {
   "cell_type": "markdown",
   "metadata": {},
   "source": [
    "### 2.1 Metric Scores"
   ]
  },
  {
   "cell_type": "code",
   "execution_count": null,
   "metadata": {
    "scrolled": true
   },
   "outputs": [],
   "source": [
    "o_folder = \"../output/{}/pairwise/metrics/\".format(dataset)\n",
    "k= 0\n",
    "methods_vs_metrics = {}\n",
    "for pair in tqdm(datasets):\n",
    "    for method in methods[:1]:\n",
    "        try:\n",
    "            method_scores = pd.read_csv(f\"{o_folder}/{method}_[{pair[0]}]_[{pair[1]}].csv\",index_col=0)\n",
    "        except:\n",
    "            k+=1\n",
    "            print(\"Error in loading the results for the dataset: \", dataset, \" and for the method: \", method)\n",
    "            continue\n",
    "\n",
    "        method_name=method.replace(\".csv\", \"\")\n",
    "        if method_name not in methods_vs_metrics:\n",
    "            methods_vs_metrics[method_name] = method_scores.copy()\n",
    "        else:\n",
    "            methods_vs_metrics[method_name]=pd.concat([methods_vs_metrics[method_name], method_scores.copy()],axis=1)\n"
   ]
  },
  {
   "cell_type": "markdown",
   "metadata": {},
   "source": [
    "# 4. Aggregated scores"
   ]
  },
  {
   "cell_type": "code",
   "execution_count": null,
   "metadata": {},
   "outputs": [],
   "source": [
    "bio_metrics = ['NMI cluster/label', \n",
    "               'ARI cluster/label', \n",
    "               'Cell type ASW',\n",
    "               'Isolated label silhouette',\n",
    "               'Isolated label F1',\n",
    "               'CC conservation', \n",
    "               'HVG conservation',\n",
    "               'cLISI',\n",
    "               '1 - Over correction']\n",
    "\n",
    "batch_metrics = ['Batch ASW', \n",
    "                 'PCR batch', \n",
    "                 'Graph connectivity', \n",
    "                 'iLISI']\n",
    "\n",
    "if \"atac\" in dataset:\n",
    "    bio_metrics.remove('CC conservation')\n",
    "    bio_metrics.remove('HVG conservation')\n",
    "elif \"simulation\" in dataset:\n",
    "    bio_metrics.remove('CC conservation')\n",
    "\n",
    "len(bio_metrics) + len(batch_metrics)"
   ]
  },
  {
   "cell_type": "code",
   "execution_count": null,
   "metadata": {
    "scrolled": true
   },
   "outputs": [],
   "source": [
    "alpha = 0.4\n",
    "agg_scores = None\n",
    "for method in methods_vs_metrics:\n",
    "    method_scores = methods_vs_metrics[method].dropna(axis= 0)\n",
    "    if agg_scores is None:\n",
    "        agg_scores = pd.DataFrame(method_scores.mean(axis=1), columns = [method]).copy()\n",
    "    else:\n",
    "        agg_scores = pd.concat([agg_scores, pd.DataFrame(method_scores.mean(axis = 1), columns = [method])], axis = 1)\n",
    "agg_scores=agg_scores.transpose()\n",
    "agg_scores[\"Batch correction\"] = agg_scores[batch_metrics].mean(axis = 1)\n",
    "agg_scores[\"Biological conservation\"] = agg_scores[bio_metrics].mean(axis = 1)\n",
    "agg_scores[\"Overall score\"] = (0.4 * agg_scores[\"Batch correction\"]) + ((0.6) * agg_scores[\"Biological conservation\"])\n",
    "agg_scores = np.round(agg_scores, 3)"
   ]
  },
  {
   "cell_type": "code",
   "execution_count": null,
   "metadata": {},
   "outputs": [],
   "source": [
    "selected_metrics = [\"Overall score\", \"Biological conservation\", \"Batch correction\"]"
   ]
  },
  {
   "cell_type": "markdown",
   "metadata": {},
   "source": [
    "### 4.3 Overall scores"
   ]
  },
  {
   "cell_type": "code",
   "execution_count": null,
   "metadata": {
    "scrolled": true
   },
   "outputs": [],
   "source": [
    "agg_scores[[selected_metrics[0]]].sort_values(selected_metrics[0], ascending = False)"
   ]
  },
  {
   "cell_type": "markdown",
   "metadata": {},
   "source": [
    "### 4.4 Biological scores"
   ]
  },
  {
   "cell_type": "code",
   "execution_count": null,
   "metadata": {},
   "outputs": [],
   "source": [
    "agg_scores[[selected_metrics[1]]].sort_values(selected_metrics[1], ascending = False)"
   ]
  },
  {
   "cell_type": "code",
   "execution_count": null,
   "metadata": {},
   "outputs": [],
   "source": [
    "agg_scores[bio_metrics]"
   ]
  },
  {
   "cell_type": "markdown",
   "metadata": {},
   "source": [
    "### 4.5 Batch scores"
   ]
  },
  {
   "cell_type": "code",
   "execution_count": null,
   "metadata": {},
   "outputs": [],
   "source": [
    "agg_scores[[selected_metrics[2]]].sort_values(selected_metrics[2], ascending = False)"
   ]
  },
  {
   "cell_type": "code",
   "execution_count": null,
   "metadata": {},
   "outputs": [],
   "source": [
    "agg_scores[batch_metrics]"
   ]
  },
  {
   "cell_type": "markdown",
   "metadata": {},
   "source": [
    "# 5. Plots - Aggregated Scores"
   ]
  },
  {
   "cell_type": "code",
   "execution_count": null,
   "metadata": {},
   "outputs": [],
   "source": [
    "p_folder = \"../output/{}/pairwise/plots/\".format(dataset)\n",
    "try:\n",
    "    os.mkdir(p_folder)\n",
    "except:\n",
    "    pass\n",
    "\n",
    "#initialize the plot parameters\n",
    "plt.rcParams[\"font.family\"] = \"Times New Roman\"\n",
    "params = {\n",
    "    \"width\" : 0.6, \n",
    "    \"color\" : ['#7F2400', '#FFD23F', '#28A097', '#13426C', '#F26A26'], \n",
    "    \"ylim\" : (0.0,1.0), \n",
    "    \"legend\" : False, \n",
    "    \"fontsize\": 30\n",
    "}"
   ]
  },
  {
   "cell_type": "code",
   "execution_count": null,
   "metadata": {
    "scrolled": true
   },
   "outputs": [],
   "source": [
    "overall_score = agg_scores[[\"Overall score\"]].loc[methods]\n",
    "bio_scores = agg_scores[[\"Biological conservation\"] + bio_metrics].loc[methods]\n",
    "batch_scores = agg_scores[[\"Batch correction\"] + batch_metrics].loc[methods]\n",
    "file_name = \"agg_scores.pdf\"\n",
    "title = \"\"\n",
    "plot_metrics(overall_score, bio_scores, batch_scores, title,file_name, params, p_folder)"
   ]
  },
  {
   "cell_type": "markdown",
   "metadata": {},
   "source": [
    "# 6. Plots - Batch pairs"
   ]
  },
  {
   "cell_type": "code",
   "execution_count": null,
   "metadata": {},
   "outputs": [],
   "source": [
    "ids_map = {\n",
    "    '_': ' ',\n",
    "    '-': ' ',\n",
    "}"
   ]
  },
  {
   "cell_type": "code",
   "execution_count": null,
   "metadata": {
    "scrolled": true
   },
   "outputs": [],
   "source": [
    "datasets"
   ]
  },
  {
   "cell_type": "code",
   "execution_count": null,
   "metadata": {
    "scrolled": true
   },
   "outputs": [],
   "source": [
    "with warnings.catch_warnings():\n",
    "    warnings.simplefilter('ignore')\n",
    "    for pair in datasets:\n",
    "            \n",
    "        print(pair)\n",
    "        pair_x_scores = None\n",
    "        for method in methods_vs_metrics:\n",
    "            pair_x_method_y_scores = methods_vs_metrics[method][[str(pair)]].transpose().copy().rename(index = {str(pair): method})\n",
    "            if pair_x_scores is None:\n",
    "                pair_x_scores = pair_x_method_y_scores.copy()\n",
    "            else:\n",
    "                pair_x_scores = pd.concat([pair_x_scores, pair_x_method_y_scores], axis = 0)\n",
    "\n",
    "        \n",
    "        pair_x_scores[\"Batch correction\"] = pair_x_scores[batch_metrics].mean(axis = 1)\n",
    "        pair_x_scores[\"Biological conservation\"] = pair_x_scores[bio_metrics].mean(axis = 1)\n",
    "        pair_x_scores[\"Overall score\"] = (alpha * pair_x_scores[\"Batch correction\"]) + ((1. - alpha) * pair_x_scores[\"Biological conservation\"])\n",
    "        pair_x_scores = np.round(pair_x_scores, 3)\n",
    "        print(pair_x_scores[[\"Overall score\", \"Biological conservation\", \"Batch correction\"]])\n",
    "        \n",
    "        \n",
    "        #plots\n",
    "        overall_score = pair_x_scores[[\"Overall score\"]].loc[methods]\n",
    "        bio_scores = pair_x_scores[[\"Biological conservation\"] + bio_metrics].loc[methods]\n",
    "        batch_scores = pair_x_scores[[\"Batch correction\"] + batch_metrics].loc[methods]\n",
    "        file_name = \"{}_{}_scores.pdf\".format(pair[0], pair[1])\n",
    "\n",
    "        title = \"{} | {}\".format(pair[0], pair[1])\n",
    "        plot_metrics(overall_score, bio_scores, batch_scores, title,file_name, params, p_folder)\n",
    "       \n",
    "       "
   ]
  },
  {
   "cell_type": "markdown",
   "metadata": {},
   "source": [
    "# 7. Plots - Umap plots"
   ]
  },
  {
   "cell_type": "markdown",
   "metadata": {},
   "source": [
    "### 7.1 Prepare UMAPs"
   ]
  },
  {
   "cell_type": "code",
   "execution_count": null,
   "metadata": {},
   "outputs": [],
   "source": [
    "p_folder = \"../output/{}/pairwise/umap_plots/\".format(dataset)\n",
    "try:\n",
    "    os.mkdir(p_folder)\n",
    "except:\n",
    "    pass"
   ]
  },
  {
   "cell_type": "markdown",
   "metadata": {},
   "source": [
    "### 7.2 Analyzing UMAPs"
   ]
  },
  {
   "cell_type": "code",
   "execution_count": null,
   "metadata": {},
   "outputs": [],
   "source": [
    "colors = ['#6F0747', '#073B31', '#052A94', '#8D8CFF', '#1EBF2B', '#1DC7B3', '#128B8D', '#6CBC6A', '#BD8993', '#C07A48', '#EBAE83', '#000000', '#536E8B', '#773276', '#17BECF', '#AEC7E8', '#FFBB78']\n",
    "sns_markers = ['o', 's', 'D', '^', 'v', '<', '>', 'P', 'X', '*', 'H', 'd', 'p', '8', 's', 'd', 'D']\n",
    "color_palette = {}\n",
    "markers = {}\n",
    "i = 0\n",
    "for ct in (np.unique(unintegrated_data.obs[data_keys[dataset][\"label_key\"]])):\n",
    "    \n",
    "    color_palette[ct] = colors[i]\n",
    "    markers [ct] = sns_markers[i]\n",
    "    i+=1\n",
    "    \n",
    "for pair in datasets:\n",
    "    if pair[0] not in color_palette:\n",
    "        color_palette[pair[0]] = \"#052A94\"\n",
    "    if pair[1] not in color_palette:\n",
    "        color_palette[pair[1]] = \"#ACA106\"\n",
    "    markers[pair[0]] = sns_markers[0]\n",
    "    markers[pair[1]] = sns_markers[0]"
   ]
  },
  {
   "cell_type": "code",
   "execution_count": null,
   "metadata": {
    "scrolled": true
   },
   "outputs": [],
   "source": [
    "# Extract UMAP coordinates and cell types\n",
    "o_folder = \"../output/{}/pairwise/\".format(dataset)\n",
    "\n",
    "font_size = 13\n",
    "types = {\n",
    "    \"ct\" : data_keys[dataset][\"label_key\"],\n",
    "    \"bt\" : data_keys[dataset][\"batch_key\"]\n",
    "}\n",
    "\n",
    "legend_title_map = {\n",
    "    \"ct\": \"Cell types\",\n",
    "    \"bt\": \"Batches\"\n",
    "}\n",
    "\n",
    "\n",
    "def format_label(label, ids_map):\n",
    "    for old, new in ids_map.items():\n",
    "        label = label.replace(old, new)\n",
    "    return label[0].upper()+label[1:]\n",
    "\n",
    "\n",
    "# Create a figure with subplots\n",
    "\n",
    "columns_vs_rows={}\n",
    "umaps = {}\n",
    "for pair in datasets:\n",
    "    umaps = {}\n",
    "\n",
    "    if os.path.isfile('{}/{}_{}_umap.png'.format(p_folder, pair[0], pair[1])):\n",
    "        continue\n",
    "    print(pair)\n",
    "    row = 0\n",
    "    fig, axes = plt.subplots(2, 6, figsize=(25, 8), sharex=False, sharey=False)\n",
    "    print(pair)\n",
    "    umaps[pair] = {}    \n",
    "    color_palette[pair[0]] = \"#052A94\"\n",
    "    color_palette[pair[1]] = \"#ACA106\"\n",
    "    markers[pair[0]] = sns_markers[0]\n",
    "    markers[pair[1]] = sns_markers[0]\n",
    "    init = True\n",
    "    columns_vs_rows[pair]={}\n",
    "    for method in methods:\n",
    "        print(\"\\t\",method)\n",
    "        method_output = scanpy.read_h5ad(\"{}/{}_[{}]_[{}].h5ad\".format(o_folder,method, pair[0], pair[1]))\n",
    "        if init:\n",
    "            init=False\n",
    "            columns_vs_rows[pair][\"cells\"]=method_output.obs_names\n",
    "            columns_vs_rows[pair][\"genes\"]=method_output.var_names\n",
    "            unintegratedPairX = unintegrated_data[unintegrated_data.obs[data_keys[dataset][\"batch_key\"]].isin(pair)][columns_vs_rows[pair][\"cells\"],columns_vs_rows[pair][\"genes\"]]\n",
    "            scanpy.pp.neighbors(unintegratedPairX)\n",
    "            scanpy.tl.umap(unintegratedPairX, n_components=2)\n",
    "            umaps[pair][\"unintegrated\"] = unintegratedPairX.copy()\n",
    "            \n",
    "        method_output = method_output[columns_vs_rows[pair][\"cells\"],columns_vs_rows[pair][\"genes\"]]\n",
    "        scanpy.pp.neighbors(method_output)\n",
    "        scanpy.tl.umap(method_output, n_components=2)\n",
    "        umaps[pair][method] = method_output.copy()\n",
    "    for _type in types:\n",
    "        col = 0\n",
    "        for method in umaps[pair]:\n",
    "            if method not in methods:\n",
    "                if \"uni\" not in method:\n",
    "                    continue\n",
    "\n",
    "            method_umap = umaps[pair][method][columns_vs_rows[pair][\"cells\"], columns_vs_rows[pair][\"genes\"]].copy()\n",
    "            #method_umap = method_umap[~method_umap.obs[types[_type]].isin([\"Macrophage\",\"Type 2\", \"T/NK cell\",\"Endothelium\"])]\n",
    "            umap_coords = method_umap.obsm['X_umap']\n",
    "            ids = method_umap.obs[types[_type]]\n",
    "\n",
    "            # Create a DataFrame for easier manipulation\n",
    "            umap_df = pd.DataFrame(umap_coords, columns=['UMAP1', 'UMAP2'])\n",
    "            umap_df[types[_type]] = ids.values\n",
    "\n",
    "            # Plotting on the corresponding subplot\n",
    "            ax = axes[row][col]\n",
    "            sns.scatterplot(\n",
    "                x='UMAP1', y='UMAP2',\n",
    "                hue=types[_type],\n",
    "                style=types[_type],\n",
    "                palette=color_palette,\n",
    "                markers=markers,\n",
    "                data=umap_df,\n",
    "                s=5, \n",
    "                linewidth=0.1,\n",
    "                ax=ax\n",
    "            )\n",
    "\n",
    "            # Customize the legend\n",
    "            if \"uni\" in method:\n",
    "                title = \"Before integration\"\n",
    "            else:\n",
    "                title = method\n",
    "            ax.set_title(title, fontsize=font_size)\n",
    "\n",
    "            ax.set_xlabel(\"UMAP1\", fontsize=font_size)\n",
    "            ax.set_ylabel(\"UMAP2\", fontsize=font_size)\n",
    "            ax.tick_params(axis='both', which='major', labelsize=font_size)\n",
    "\n",
    "            # Add the legend only to the fifth subplot\n",
    "            if col == 5:\n",
    "                handles, labels = ax.get_legend_handles_labels()\n",
    "                formatted_labels = [format_label(label, ids_map) for label in labels]\n",
    "                ax.legend(\n",
    "                    handles, \n",
    "                    formatted_labels, \n",
    "                    title=legend_title_map[_type], \n",
    "                    title_fontsize=font_size,  # Adjust legend title font size here\n",
    "                    bbox_to_anchor=(1.05, 1), \n",
    "                    loc='upper left', \n",
    "                    markerscale=1,\n",
    "                    fontsize=font_size\n",
    "                )\n",
    "\n",
    "            else:\n",
    "                ax.get_legend().remove()\n",
    "\n",
    "            col+=1\n",
    "        row+=1\n",
    "    \n",
    "    # Adjust layout\n",
    "#     plt.title(\"{} | {}\".format(replace_map[pair.split(\"_\")[0]], replace_map[pair.split(\"_\")[1]]), fontsize=font_size)\n",
    "    plt.tight_layout()\n",
    "    plt.savefig('{}/{}_{}_umap.png'.format(p_folder, pair[0], pair[1]),dpi=300, bbox_inches = 'tight')\n",
    "    plt.show()\n",
    "    del umaps"
   ]
  },
  {
   "cell_type": "code",
   "execution_count": null,
   "metadata": {},
   "outputs": [],
   "source": []
  }
 ],
 "metadata": {
  "kernelspec": {
   "display_name": "scib-pipeline-R3.6A",
   "language": "python",
   "name": "scib-pipeline-r3.6a"
  },
  "language_info": {
   "codemirror_mode": {
    "name": "ipython",
    "version": 3
   },
   "file_extension": ".py",
   "mimetype": "text/x-python",
   "name": "python",
   "nbconvert_exporter": "python",
   "pygments_lexer": "ipython3",
   "version": "3.7.16"
  }
 },
 "nbformat": 4,
 "nbformat_minor": 5
}
