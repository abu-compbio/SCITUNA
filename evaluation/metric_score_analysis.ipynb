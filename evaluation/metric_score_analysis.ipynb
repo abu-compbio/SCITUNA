{
 "cells": [
  {
   "cell_type": "code",
   "execution_count": null,
   "id": "8c2630ab",
   "metadata": {},
   "outputs": [],
   "source": [
    "import os\n",
    "import umap\n",
    "import scanpy\n",
    "import pickle\n",
    "import warnings\n",
    "import operator\n",
    "import itertools\n",
    "import umap.plot\n",
    "import numpy as np\n",
    "import pandas as pd\n",
    "from utils import *\n",
    "import seaborn as sns\n",
    "from tqdm import tqdm as tqdm\n",
    "import matplotlib.pyplot as plt\n",
    "from collections import Counter\n",
    "from matplotlib.gridspec import GridSpec\n",
    "from sklearn.metrics.pairwise import cosine_similarity"
   ]
  },
  {
   "cell_type": "markdown",
   "id": "ceabf8da",
   "metadata": {},
   "source": [
    "# 1. Load data"
   ]
  },
  {
   "cell_type": "code",
   "execution_count": null,
   "id": "d835efdd",
   "metadata": {},
   "outputs": [],
   "source": [
    "dataset=\"pancreas\" # \"pancreas\" or \"pancreas\"\n",
    "#map data objects into batch/lebel keys\n",
    "data_keys={\"lung\":{\"batch_key\":\"batch\",\"label_key\":\"cell_type\", \"file_name\": \"lung_unintegrated\"},\n",
    "           \"pancreas\":{\"batch_key\":\"tech\",\"label_key\":\"celltype\", \"file_name\": \"pancreas_unintegrated\"}}\n",
    "methods = [ \"SciTuna\",'Scanorama', 'fastMNN', 'Seurat', 'SAUCIE']"
   ]
  },
  {
   "cell_type": "markdown",
   "id": "c5be2bb2",
   "metadata": {},
   "source": [
    "### 1.2  Original Datasets (unintegrated)"
   ]
  },
  {
   "cell_type": "code",
   "execution_count": null,
   "id": "73730afa",
   "metadata": {
    "scrolled": true
   },
   "outputs": [],
   "source": [
    "print(\"Loading dataset\")\n",
    "unintegrated_data=scanpy.read_h5ad(\"data/{}.h5ad\".format(data_keys[dataset][\"file_name\"]))"
   ]
  },
  {
   "cell_type": "markdown",
   "id": "a98054e8",
   "metadata": {},
   "source": [
    "### 1.1 Batch Pairs "
   ]
  },
  {
   "cell_type": "code",
   "execution_count": null,
   "id": "f01b0e2a",
   "metadata": {},
   "outputs": [],
   "source": [
    "# retreive batch pairs as tuples\n",
    "datasets = [\"{}_{}\".format(a,b) for idx, a in enumerate(np.unique(unintegrated_data.obs[data_keys[dataset][\"batch_key\"]])) for b in np.unique(unintegrated_data.obs[data_keys[dataset][\"batch_key\"]])[idx + 1:]]\n",
    "print(\"There are :\",len(datasets),\" batch pairs.\")\n",
    "datasets[:4]"
   ]
  },
  {
   "cell_type": "markdown",
   "id": "b16bdaa8",
   "metadata": {},
   "source": [
    "# 2. Methods vs. Metrics"
   ]
  },
  {
   "cell_type": "markdown",
   "id": "5e8d6839",
   "metadata": {},
   "source": [
    "### 2.1 Metric Scores"
   ]
  },
  {
   "cell_type": "code",
   "execution_count": null,
   "id": "a0e93674",
   "metadata": {
    "scrolled": true
   },
   "outputs": [],
   "source": [
    "outputs_folder = \"output/{}/\".format(dataset)\n",
    "'''\n",
    "The function 'load_and_combine_scores' fetches results for each method and dataset \n",
    "individually, subsequently merging them into respective aggregated datasets for each \n",
    "method. This method is useful if the evaluation notebook terminated before combining \n",
    "scores for each method into a single file. Otherwise, use the 'load_combined_scores' \n",
    "function, which loads the combined results for each method.\n",
    "'''\n",
    "\n",
    "methods_vs_metrics = load_and_combine_scores(outputs_folder, methods, datasets)\n",
    "#methods_vs_metrics = load_combined_scores(outputs_folder, methods, datasets)"
   ]
  },
  {
   "cell_type": "markdown",
   "id": "84b65769",
   "metadata": {},
   "source": [
    "# 3. Similarity scores"
   ]
  },
  {
   "cell_type": "code",
   "execution_count": null,
   "id": "1ff1dde7",
   "metadata": {
    "scrolled": true
   },
   "outputs": [],
   "source": [
    "similarity_scores = calculate_sim_scores(unintegrated_data, data_keys[dataset][\"batch_key\"], data_keys[dataset][\"label_key\"], datasets)\n",
    "sorted_similarity_scores = sorted(similarity_scores.items(), key=operator.itemgetter(1))\n",
    "sorted_similarity_scores"
   ]
  },
  {
   "cell_type": "markdown",
   "id": "96504bc1",
   "metadata": {},
   "source": [
    "# 4. Aggregated scores"
   ]
  },
  {
   "cell_type": "markdown",
   "id": "68976e8e",
   "metadata": {},
   "source": [
    "### 4.1 Mapping dictionaries for renaming methods and scores"
   ]
  },
  {
   "cell_type": "code",
   "execution_count": null,
   "id": "c6d165eb",
   "metadata": {},
   "outputs": [],
   "source": [
    "bio_metrics = ['NMI cluster/label', \n",
    "               'ARI cluster/label', \n",
    "               'Cell type ASW',\n",
    "               'Isolated label silhouette',\n",
    "               'Isolated label F1',\n",
    "               'CC conservation', \n",
    "               'HVG conservation',\n",
    "               'cLISI',\n",
    "               '1 - Over correction']\n",
    "\n",
    "batch_metrics = ['Batch ASW', \n",
    "                 'PCR batch', \n",
    "                 'Graph connectivity', \n",
    "                 'iLISI']\n",
    "\n",
    "len(bio_metrics) + len(batch_metrics)"
   ]
  },
  {
   "cell_type": "code",
   "execution_count": null,
   "id": "eec65d32",
   "metadata": {
    "scrolled": true
   },
   "outputs": [],
   "source": [
    "alpha = 0.4\n",
    "agg_scores = None\n",
    "for method in methods_vs_metrics:\n",
    "    method_scores = methods_vs_metrics[method].dropna(axis= 0)\n",
    "    if agg_scores is None:\n",
    "        agg_scores = pd.DataFrame(method_scores.mean(axis=1), columns = [method]).copy()\n",
    "    else:\n",
    "        agg_scores = pd.concat([agg_scores, pd.DataFrame(method_scores.mean(axis = 1), columns = [method])], axis = 1)\n",
    "agg_scores=agg_scores.transpose()\n",
    "agg_scores[\"Batch correction\"] = agg_scores[batch_metrics].mean(axis = 1)\n",
    "agg_scores[\"Biological conservation\"] = agg_scores[bio_metrics].mean(axis = 1)\n",
    "agg_scores[\"Overall score\"] = (0.4 * agg_scores[\"Batch correction\"]) + ((0.6) * agg_scores[\"Biological conservation\"])\n",
    "agg_scores = np.round(agg_scores, 3)"
   ]
  },
  {
   "cell_type": "code",
   "execution_count": null,
   "id": "abb8bd18",
   "metadata": {},
   "outputs": [],
   "source": [
    "selected_metrics = [\"Overall score\", \"Biological conservation\", \"Batch correction\"]"
   ]
  },
  {
   "cell_type": "markdown",
   "id": "b89a5015",
   "metadata": {},
   "source": [
    "### 4.3 Overall scores"
   ]
  },
  {
   "cell_type": "code",
   "execution_count": null,
   "id": "4909c14a",
   "metadata": {
    "scrolled": true
   },
   "outputs": [],
   "source": [
    "agg_scores[[selected_metrics[0]]].sort_values(selected_metrics[0], ascending = False)"
   ]
  },
  {
   "cell_type": "markdown",
   "id": "d0ed75ea",
   "metadata": {},
   "source": [
    "### 4.4 Biological scores"
   ]
  },
  {
   "cell_type": "code",
   "execution_count": null,
   "id": "16a451d4",
   "metadata": {},
   "outputs": [],
   "source": [
    "agg_scores[[selected_metrics[1]]].sort_values(selected_metrics[1], ascending = False)"
   ]
  },
  {
   "cell_type": "code",
   "execution_count": null,
   "id": "5a0e63ed",
   "metadata": {},
   "outputs": [],
   "source": [
    "agg_scores[bio_metrics]"
   ]
  },
  {
   "cell_type": "markdown",
   "id": "e7e6f8bd",
   "metadata": {},
   "source": [
    "### 4.5 Batch scores"
   ]
  },
  {
   "cell_type": "code",
   "execution_count": null,
   "id": "67c42a29",
   "metadata": {},
   "outputs": [],
   "source": [
    "agg_scores[[selected_metrics[2]]].sort_values(selected_metrics[2], ascending = False)"
   ]
  },
  {
   "cell_type": "code",
   "execution_count": null,
   "id": "7b0e0d22",
   "metadata": {},
   "outputs": [],
   "source": [
    "agg_scores[batch_metrics]"
   ]
  },
  {
   "cell_type": "markdown",
   "id": "fadf4ccc",
   "metadata": {},
   "source": [
    "# 5. Plots - Aggregated Scores"
   ]
  },
  {
   "cell_type": "code",
   "execution_count": null,
   "id": "30bfc14d",
   "metadata": {},
   "outputs": [],
   "source": [
    "try:\n",
    "    os.mkdir(\"/Users/a.h./Desktop/SciTuna/output/{}/metric_plots/\".format(dataset))\n",
    "except:\n",
    "    print(\"Folder exists..\")\n",
    "\n",
    "#initialize the plot parameters\n",
    "plt.rcParams[\"font.family\"] = \"Times New Roman\"\n",
    "params = {\n",
    "    \"width\" : 0.6, \n",
    "    \"color\" : ['#7F2400', '#FFD23F', '#28A097', '#13426C', '#F26A26'], \n",
    "    \"ylim\" : (0.0,1.0), \n",
    "    \"legend\" : False, \n",
    "    \"fontsize\": 30\n",
    "}"
   ]
  },
  {
   "cell_type": "code",
   "execution_count": null,
   "id": "4f5068f3",
   "metadata": {
    "scrolled": true
   },
   "outputs": [],
   "source": [
    "overall_score = agg_scores[[\"Overall score\"]].loc[methods]\n",
    "bio_scores = agg_scores[[\"Biological conservation\"] + bio_metrics].loc[methods]\n",
    "batch_scores = agg_scores[[\"Batch correction\"] + batch_metrics].loc[methods]\n",
    "file_name = \"agg_scores.pdf\"\n",
    "title = \"\"\n",
    "plot_metrics(overall_score, bio_scores, batch_scores, title,file_name, params, outputs_folder)"
   ]
  },
  {
   "cell_type": "markdown",
   "id": "8ce28d33",
   "metadata": {},
   "source": [
    "# 6. Plots - Batch pairs"
   ]
  },
  {
   "cell_type": "code",
   "execution_count": null,
   "id": "e19203e8",
   "metadata": {},
   "outputs": [],
   "source": [
    "ids_map = {\n",
    "    '_': ' ',\n",
    "    '-': ' ',\n",
    "    'celseq':'CEL-Seq',\n",
    "    'celseq2':\"CEL-Seq2\" ,\n",
    "    'smarter':'SMARTer',\n",
    "    'smartseq2':\"SMART-Seq2\",\n",
    "    'fluidigmc1':\"Fluidigm C1\" ,\n",
    "    'inDrop1':\"inDrop 1\",\n",
    "    'inDrop2':\"inDrop 2\",\n",
    "    'inDrop3':\"inDrop 3\",\n",
    "    'inDrop4':\"inDrop 4\",\n",
    "}"
   ]
  },
  {
   "cell_type": "code",
   "execution_count": null,
   "id": "ca0889ce",
   "metadata": {},
   "outputs": [],
   "source": []
  },
  {
   "cell_type": "code",
   "execution_count": null,
   "id": "80207e36",
   "metadata": {
    "scrolled": true
   },
   "outputs": [],
   "source": [
    "with warnings.catch_warnings():\n",
    "    warnings.simplefilter('ignore')\n",
    "    for pair in datasets:\n",
    "            \n",
    "        print(pair)\n",
    "        pair_x_scores = None\n",
    "        for method in methods_vs_metrics:\n",
    "            pair_x_method_y_scores = methods_vs_metrics[method][[pair]].transpose().copy().rename(index = {pair: method})\n",
    "            if pair_x_scores is None:\n",
    "                pair_x_scores = pair_x_method_y_scores.copy()\n",
    "            else:\n",
    "                pair_x_scores = pd.concat([pair_x_scores, pair_x_method_y_scores], axis = 0)\n",
    "\n",
    "        \n",
    "        pair_x_scores[\"Batch correction\"] = pair_x_scores[batch_metrics].mean(axis = 1)\n",
    "        pair_x_scores[\"Biological conservation\"] = pair_x_scores[bio_metrics].mean(axis = 1)\n",
    "        pair_x_scores[\"Overall score\"] = (alpha * pair_x_scores[\"Batch correction\"]) + ((1. - alpha) * pair_x_scores[\"Biological conservation\"])\n",
    "        pair_x_scores = np.round(pair_x_scores, 3)\n",
    "        print(pair_x_scores[[\"Overall score\", \"Biological conservation\", \"Batch correction\"]])\n",
    "        \n",
    "        \n",
    "        #plots\n",
    "        overall_score = pair_x_scores[[\"Overall score\"]].loc[methods]\n",
    "        bio_scores = pair_x_scores[[\"Biological conservation\"] + bio_metrics].loc[methods]\n",
    "        batch_scores = pair_x_scores[[\"Batch correction\"] + batch_metrics].loc[methods]\n",
    "        file_name = \"{}_scores.pdf\".format(pair)\n",
    "\n",
    "        title = \"{} | {}\".format(ids_map[pair.split(\"_\")[0]], ids_map[pair.split(\"_\")[1]])\n",
    "        plot_metrics(overall_score, bio_scores, batch_scores, title,file_name, params, outputs_folder)\n",
    "       \n",
    "       "
   ]
  },
  {
   "cell_type": "markdown",
   "id": "c3dbc7b5",
   "metadata": {},
   "source": [
    "# 7. Plots - Umap plots"
   ]
  },
  {
   "cell_type": "markdown",
   "id": "b9e20ff4",
   "metadata": {},
   "source": [
    "### 7.1 Prepare UMAPs"
   ]
  },
  {
   "cell_type": "code",
   "execution_count": null,
   "id": "af3e7f07",
   "metadata": {},
   "outputs": [],
   "source": [
    "try:\n",
    "    os.mkdir('{}/umap_plots/'.format(outputs_folder))\n",
    "except:\n",
    "    pass"
   ]
  },
  {
   "cell_type": "markdown",
   "id": "e2f16fc3",
   "metadata": {},
   "source": [
    "### 7.2 Analyzing UMAPs"
   ]
  },
  {
   "cell_type": "code",
   "execution_count": null,
   "id": "d6161f16",
   "metadata": {},
   "outputs": [],
   "source": [
    "colors = ['#6F0747', '#073B31', '#052A94', '#8D8CFF', '#1EBF2B', '#1DC7B3', '#128B8D', '#6CBC6A', '#BD8993', '#C07A48', '#EBAE83', '#000000', '#536E8B', '#773276', '#17BECF', '#AEC7E8', '#FFBB78']\n",
    "sns_markers = ['o', 's', 'D', '^', 'v', '<', '>', 'P', 'X', '*', 'H', 'd', 'p', '8', 's', 'd', 'D']\n",
    "color_palette = {}\n",
    "markers = {}\n",
    "i = 0\n",
    "for ct in (np.unique(unintegrated_data.obs[data_keys[dataset][\"label_key\"]])):\n",
    "    \n",
    "    color_palette[ct] = colors[i]\n",
    "    markers [ct] = sns_markers[i]\n",
    "    i+=1\n",
    "    \n",
    "for pair in datasets:\n",
    "    pair = pair.split(\"_\")\n",
    "    if pair[0] not in color_palette:\n",
    "        color_palette[pair[0]] = \"#052A94\"\n",
    "    if pair[1] not in color_palette:\n",
    "        color_palette[pair[1]] = \"#ACA106\"\n",
    "    markers[pair[0]] = sns_markers[0]\n",
    "    markers[pair[1]] = sns_markers[0]"
   ]
  },
  {
   "cell_type": "code",
   "execution_count": null,
   "id": "15307abc",
   "metadata": {
    "scrolled": true
   },
   "outputs": [],
   "source": [
    "# Extract UMAP coordinates and cell types\n",
    "font_size = 13\n",
    "types = {\n",
    "    \"ct\" : data_keys[dataset][\"label_key\"],\n",
    "    \"bt\" : data_keys[dataset][\"batch_key\"]\n",
    "}\n",
    "\n",
    "legend_title_map = {\n",
    "    \"ct\": \"Cell types\",\n",
    "    \"bt\": \"Batches\"\n",
    "}\n",
    "\n",
    "\n",
    "def format_label(label, ids_map):\n",
    "    for old, new in ids_map.items():\n",
    "        label = label.replace(old, new)\n",
    "    return label[0].upper()+label[1:]\n",
    "\n",
    "\n",
    "# Create a figure with subplots\n",
    "\n",
    "columns_vs_rows={}\n",
    "umaps = {}\n",
    "for pair in sorted_similarity_scores:\n",
    "    umaps = {}\n",
    "\n",
    "    if os.path.isfile('{}/umap_plots/{}_umap.png'.format(outputs_folder, pair)):\n",
    "        continue\n",
    "    print(pair)\n",
    "    pair = pair[0]\n",
    "    row = 0\n",
    "    fig, axes = plt.subplots(2, 6, figsize=(25, 8), sharex=False, sharey=False)\n",
    "    print(pair)\n",
    "    umaps[pair] = {}    \n",
    "    color_palette[pair.split(\"_\")[0]] = \"#052A94\"\n",
    "    color_palette[pair.split(\"_\")[1]] = \"#ACA106\"\n",
    "    markers[pair[0]] = sns_markers[0]\n",
    "    markers[pair[1]] = sns_markers[0]\n",
    "    init = True\n",
    "    columns_vs_rows[pair]={}\n",
    "    for method in methods:\n",
    "        print(\"\\t\",method)\n",
    "        method_output = scanpy.read_h5ad(\"{}/{}/integrated/{}.h5ad\".format(outputs_folder,pair,method))\n",
    "        if init:\n",
    "            init=False\n",
    "            columns_vs_rows[pair][\"cells\"]=method_output.obs_names\n",
    "            columns_vs_rows[pair][\"genes\"]=method_output.var_names\n",
    "            unintegratedPairX = unintegrated_data[unintegrated_data.obs[data_keys[dataset][\"batch_key\"]].isin(pair.split(\"_\"))][columns_vs_rows[pair][\"cells\"],columns_vs_rows[pair][\"genes\"]]\n",
    "            scanpy.pp.neighbors(unintegratedPairX)\n",
    "            scanpy.tl.umap(unintegratedPairX, n_components=2)\n",
    "            umaps[pair][\"unintegrated\"] = unintegratedPairX.copy()\n",
    "            \n",
    "        method_output = method_output[columns_vs_rows[pair][\"cells\"],columns_vs_rows[pair][\"genes\"]]\n",
    "        scanpy.pp.neighbors(method_output)\n",
    "        scanpy.tl.umap(method_output, n_components=2)\n",
    "        umaps[pair][method] = method_output.copy()\n",
    "    for _type in types:\n",
    "        col = 0\n",
    "        for method in umaps[pair]:\n",
    "            if method not in methods:\n",
    "                if \"uni\" not in method:\n",
    "                    continue\n",
    "\n",
    "            method_umap = umaps[pair][method][columns_vs_rows[pair][\"cells\"], columns_vs_rows[pair][\"genes\"]].copy()\n",
    "            #method_umap = method_umap[~method_umap.obs[types[_type]].isin([\"Macrophage\",\"Type 2\", \"T/NK cell\",\"Endothelium\"])]\n",
    "            umap_coords = method_umap.obsm['X_umap']\n",
    "            ids = method_umap.obs[types[_type]]\n",
    "\n",
    "            # Create a DataFrame for easier manipulation\n",
    "            umap_df = pd.DataFrame(umap_coords, columns=['UMAP1', 'UMAP2'])\n",
    "            umap_df[types[_type]] = ids.values\n",
    "\n",
    "            # Plotting on the corresponding subplot\n",
    "            ax = axes[row][col]\n",
    "            sns.scatterplot(\n",
    "                x='UMAP1', y='UMAP2',\n",
    "                hue=types[_type],\n",
    "                style=types[_type],\n",
    "                palette=color_palette,\n",
    "                markers=markers,\n",
    "                data=umap_df,\n",
    "                s=5, \n",
    "                linewidth=0.1,\n",
    "                ax=ax\n",
    "            )\n",
    "\n",
    "            # Customize the legend\n",
    "            if \"uni\" in method:\n",
    "                title = \"Before integration\"\n",
    "            elif \"SciTuna\" in method:\n",
    "                title = \"SciTuna\"\n",
    "            else:\n",
    "                title = method\n",
    "            ax.set_title(title, fontsize=font_size)\n",
    "\n",
    "            ax.set_xlabel(\"UMAP1\", fontsize=font_size)\n",
    "            ax.set_ylabel(\"UMAP2\", fontsize=font_size)\n",
    "            ax.tick_params(axis='both', which='major', labelsize=font_size)\n",
    "\n",
    "            # Add the legend only to the fifth subplot\n",
    "            if col == 5:\n",
    "                handles, labels = ax.get_legend_handles_labels()\n",
    "                formatted_labels = [format_label(label, ids_map) for label in labels]\n",
    "                ax.legend(\n",
    "                    handles, \n",
    "                    formatted_labels, \n",
    "                    title=legend_title_map[_type], \n",
    "                    title_fontsize=font_size,  # Adjust legend title font size here\n",
    "                    bbox_to_anchor=(1.05, 1), \n",
    "                    loc='upper left', \n",
    "                    markerscale=1,\n",
    "                    fontsize=font_size\n",
    "                )\n",
    "\n",
    "            else:\n",
    "                ax.get_legend().remove()\n",
    "\n",
    "            col+=1\n",
    "        row+=1\n",
    "    \n",
    "    # Adjust layout\n",
    "#     plt.title(\"{} | {}\".format(replace_map[pair.split(\"_\")[0]], replace_map[pair.split(\"_\")[1]]), fontsize=font_size)\n",
    "    plt.tight_layout()\n",
    "    plt.savefig('{}/umap_plots/{}_umap.png'.format(outputs_folder, pair),dpi=300, bbox_inches = 'tight')\n",
    "    plt.show()\n",
    "    del umaps"
   ]
  }
 ],
 "metadata": {
  "kernelspec": {
   "display_name": "Python 3 (ipykernel)",
   "language": "python",
   "name": "python3"
  },
  "language_info": {
   "codemirror_mode": {
    "name": "ipython",
    "version": 3
   },
   "file_extension": ".py",
   "mimetype": "text/x-python",
   "name": "python",
   "nbconvert_exporter": "python",
   "pygments_lexer": "ipython3",
   "version": "3.10.9"
  }
 },
 "nbformat": 4,
 "nbformat_minor": 5
}
